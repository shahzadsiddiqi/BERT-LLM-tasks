{
  "nbformat": 4,
  "nbformat_minor": 0,
  "metadata": {
    "colab": {
      "provenance": [],
      "gpuType": "T4",
      "authorship_tag": "ABX9TyNEAB3L7uL367jKHHvYTzTO",
      "include_colab_link": true
    },
    "kernelspec": {
      "name": "python3",
      "display_name": "Python 3"
    },
    "language_info": {
      "name": "python"
    },
    "accelerator": "GPU"
  },
  "cells": [
    {
      "cell_type": "markdown",
      "metadata": {
        "id": "view-in-github",
        "colab_type": "text"
      },
      "source": [
        "<a href=\"https://colab.research.google.com/github/shahzadsiddiqi/BERT-LLM-tasks/blob/main/A_hybrid_model_BERT_%2B_SVM_for_a_text_classification_task_(Sentiment_analysis).ipynb\" target=\"_parent\"><img src=\"https://colab.research.google.com/assets/colab-badge.svg\" alt=\"Open In Colab\"/></a>"
      ]
    },
    {
      "cell_type": "markdown",
      "source": [
        "Install the Necessary Packages"
      ],
      "metadata": {
        "id": "nMIFTskbjQXR"
      }
    },
    {
      "cell_type": "code",
      "execution_count": null,
      "metadata": {
        "id": "SxH_yYFtiqH2"
      },
      "outputs": [],
      "source": [
        "pip install transformers scikit-learn datasets torch"
      ]
    },
    {
      "cell_type": "markdown",
      "source": [
        "Implementation"
      ],
      "metadata": {
        "id": "E8iMweAejVJp"
      }
    },
    {
      "cell_type": "code",
      "source": [
        "import numpy as np\n",
        "from sklearn import svm\n",
        "from sklearn.model_selection import train_test_split\n",
        "from sklearn.metrics import accuracy_score\n",
        "from transformers import BertTokenizer, BertModel\n",
        "from sklearn.datasets import fetch_20newsgroups\n",
        "import torch\n",
        "\n",
        "# Load the 20 Newsgroups dataset and select the first 1000 samples\n",
        "newsgroups = fetch_20newsgroups(subset='train')  # Use the training subset\n",
        "texts = newsgroups.data[:1000]  # First 1000 samples\n",
        "labels = newsgroups.target[:1000]  # Corresponding labels\n",
        "\n",
        "# Initialize BERT tokenizer and model\n",
        "tokenizer = BertTokenizer.from_pretrained('bert-base-uncased')\n",
        "bert_model = BertModel.from_pretrained('bert-base-uncased')\n",
        "\n",
        "# Function to extract BERT embeddings\n",
        "def get_bert_embeddings(texts):\n",
        "    embeddings = []\n",
        "    for text in texts:\n",
        "        inputs = tokenizer(text, return_tensors='pt', truncation=True, padding='max_length', max_length=128)\n",
        "        with torch.no_grad():\n",
        "            outputs = bert_model(**inputs)\n",
        "        # Average the embeddings of the tokens (including [CLS] token)\n",
        "        sentence_embedding = outputs.last_hidden_state.mean(dim=1).squeeze().numpy()\n",
        "        embeddings.append(sentence_embedding)\n",
        "    return np.array(embeddings)\n",
        "\n",
        "# Get BERT embeddings for the text data\n",
        "X = get_bert_embeddings(texts)\n",
        "\n",
        "# Split the data into training and testing sets\n",
        "X_train, X_test, y_train, y_test = train_test_split(X, labels, test_size=0.25, random_state=42)\n",
        "\n",
        "# Train an SVM Classifier\n",
        "svm_classifier = svm.SVC(kernel='rbf', C=1.0)\n",
        "svm_classifier.fit(X_train, y_train)\n",
        "\n",
        "# Evaluate the SVM Classifier on the test set\n",
        "y_pred = svm_classifier.predict(X_test)\n",
        "accuracy = accuracy_score(y_test, y_pred)\n",
        "\n",
        "print(f\"Accuracy of SVM Classifier with BERT Embeddings: {accuracy * 100:.2f}%\")\n"
      ],
      "metadata": {
        "colab": {
          "base_uri": "https://localhost:8080/"
        },
        "id": "LQH06pmzjaEq",
        "outputId": "81ec1796-289e-43d8-c927-2e5eaf1b4bc9"
      },
      "execution_count": 5,
      "outputs": [
        {
          "output_type": "stream",
          "name": "stdout",
          "text": [
            "Accuracy of SVM Classifier with BERT Embeddings: 39.20%\n"
          ]
        }
      ]
    }
  ]
}